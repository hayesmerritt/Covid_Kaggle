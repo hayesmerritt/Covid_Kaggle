{
 "cells": [
  {
   "cell_type": "code",
   "execution_count": 1,
   "id": "c159e28e-2a03-46a1-840a-07b3d9a7fa51",
   "metadata": {},
   "outputs": [],
   "source": [
    "#############################################################################################\n",
    "#############################################################################################\n",
    "#############################################################################################\n",
    "###### Initial attempt at Covid kaggle competition...more just for funsies than anything ####\n",
    "###### Author: Hayes Merritt                                                             ####\n",
    "###### Date: June 05, 2021                                                               ####\n",
    "#############################################################################################\n",
    "#############################################################################################\n",
    "#############################################################################################"
   ]
  },
  {
   "cell_type": "code",
   "execution_count": null,
   "id": "7f052ef1-ba61-4527-ba48-6c82fda08abd",
   "metadata": {},
   "outputs": [],
   "source": [
    "# Goal is to predict the total number of covid cases (and possibly the number of deaths)"
   ]
  },
  {
   "cell_type": "code",
   "execution_count": 2,
   "id": "725fcf9e-07d5-44c2-8f13-f476deca0eae",
   "metadata": {},
   "outputs": [],
   "source": [
    "# Import pandas and read in the data\n",
    "import pandas as pd\n",
    "covid_df = pd.read_csv(\"./archive/owid-covid-data.csv\", parse_dates=['date'])\n",
    "rel_nans = pd.DataFrame(covid_df.isna().sum()/covid_df.shape[0])\n",
    "rel_nans.columns = ['NumNaNs']\n",
    "to_drop  = rel_nans[rel_nans['NumNaNs']>0.50]"
   ]
  },
  {
   "cell_type": "code",
   "execution_count": 3,
   "id": "446dc70e-36ed-45a0-aee3-61cfc94f3666",
   "metadata": {},
   "outputs": [
    {
     "name": "stdout",
     "output_type": "stream",
     "text": [
      "number of variables remaining after removing those with more than 50% of their observations being NaNs is:  35\n",
      "total number of variables in dataset is:  59\n"
     ]
    }
   ],
   "source": [
    "# Drop variables with high percentage (gt 50%) of NaNs\n",
    "covid_lo_nans = covid_df.drop(columns=to_drop.T.columns.values.tolist())\n",
    "print(\"number of variables remaining after removing those with more than 50% of their observations being NaNs is: \", covid_lo_nans.shape[1])\n",
    "print(\"total number of variables in dataset is: \", covid_df.shape[1])"
   ]
  },
  {
   "cell_type": "code",
   "execution_count": 4,
   "id": "e8bcd7eb-6c01-4ee9-a041-b47cf01c0992",
   "metadata": {},
   "outputs": [
    {
     "data": {
      "text/plain": [
       "iso_code                                   object\n",
       "continent                                  object\n",
       "location                                   object\n",
       "date                               datetime64[ns]\n",
       "total_cases                               float64\n",
       "new_cases                                 float64\n",
       "new_cases_smoothed                        float64\n",
       "total_deaths                              float64\n",
       "new_deaths                                float64\n",
       "new_deaths_smoothed                       float64\n",
       "total_cases_per_million                   float64\n",
       "new_cases_per_million                     float64\n",
       "new_cases_smoothed_per_million            float64\n",
       "total_deaths_per_million                  float64\n",
       "new_deaths_per_million                    float64\n",
       "new_deaths_smoothed_per_million           float64\n",
       "reproduction_rate                         float64\n",
       "new_tests_smoothed                        float64\n",
       "new_tests_smoothed_per_thousand           float64\n",
       "tests_units                                object\n",
       "stringency_index                          float64\n",
       "population                                float64\n",
       "population_density                        float64\n",
       "median_age                                float64\n",
       "aged_65_older                             float64\n",
       "aged_70_older                             float64\n",
       "gdp_per_capita                            float64\n",
       "extreme_poverty                           float64\n",
       "cardiovasc_death_rate                     float64\n",
       "diabetes_prevalence                       float64\n",
       "female_smokers                            float64\n",
       "male_smokers                              float64\n",
       "hospital_beds_per_thousand                float64\n",
       "life_expectancy                           float64\n",
       "human_development_index                   float64\n",
       "dtype: object"
      ]
     },
     "execution_count": 4,
     "metadata": {},
     "output_type": "execute_result"
    }
   ],
   "source": [
    "# Look at dtypes\n",
    "covid_lo_nans.dtypes"
   ]
  },
  {
   "cell_type": "code",
   "execution_count": 5,
   "id": "1082c67c-d04b-4435-89d7-e753be0790b7",
   "metadata": {},
   "outputs": [
    {
     "data": {
      "text/plain": [
       "array([nan, 'tests performed', 'people tested', 'units unclear',\n",
       "       'samples tested'], dtype=object)"
      ]
     },
     "execution_count": 5,
     "metadata": {},
     "output_type": "execute_result"
    }
   ],
   "source": [
    "covid_lo_nans['tests_units'].unique()"
   ]
  },
  {
   "cell_type": "code",
   "execution_count": 6,
   "id": "61df3e36-5ce1-4098-9a1c-521ac9c9ddfc",
   "metadata": {},
   "outputs": [
    {
     "data": {
      "text/plain": [
       "<AxesSubplot:>"
      ]
     },
     "execution_count": 6,
     "metadata": {},
     "output_type": "execute_result"
    },
    {
     "data": {
      "image/png": "[encoded data removed]",
      "text/plain": [
       "<Figure size 432x288 with 1 Axes>"
      ]
     },
     "metadata": {
      "needs_background": "light"
     },
     "output_type": "display_data"
    }
   ],
   "source": [
    "# Date variable should be treated as numeric/ordinal\n",
    "covid_lo_nans['numeric_date'] = covid_lo_nans['date'].apply(lambda x: x.timestamp())\n",
    "covid_lo_nans['numeric_date'].hist()                                                                 # check the new variable to ensure that it was performed correctly"
   ]
  },
  {
   "cell_type": "code",
   "execution_count": null,
   "id": "37a2ea22-7619-4b49-854e-fa4435ae44a3",
   "metadata": {},
   "outputs": [],
   "source": [
    "# Reduce dimensionality via correlated feature removal and/or possible target encoding."
   ]
  },
  {
   "cell_type": "code",
   "execution_count": 7,
   "id": "563dfb12-d50c-4697-8ae1-34e8921449db",
   "metadata": {},
   "outputs": [],
   "source": [
    "# convert objects to category type\n",
    "dic = {'iso_code':'category',\n",
    "       'continent':'category',\n",
    "       'location':'category',\n",
    "       'tests_units':'category'}\n",
    "covid_lo_nans = covid_lo_nans.astype(dic)"
   ]
  },
  {
   "cell_type": "code",
   "execution_count": 18,
   "id": "72ec8bc8-7262-40e2-bcc5-29e633e12cdc",
   "metadata": {},
   "outputs": [
    {
     "name": "stdout",
     "output_type": "stream",
     "text": [
      "0\n",
      "0\n",
      "0\n",
      "0\n",
      "0\n",
      "0\n",
      "0\n",
      "0\n",
      "0\n",
      "0\n",
      "0\n",
      "0\n",
      "0\n",
      "0\n",
      "0\n",
      "0\n",
      "0\n",
      "0\n",
      "0\n",
      "0\n",
      "0\n",
      "0\n",
      "0\n",
      "0\n",
      "0\n",
      "0\n",
      "0\n",
      "0\n",
      "0\n",
      "0\n"
     ]
    }
   ],
   "source": [
    "# Some diagnostic stuff\n",
    "import numpy as np\n",
    "covid_lo_nans.describe()\n",
    "np.isinf(covid_lo_nans.drop(columns=['iso_code','continent','location','tests_units'])).values.sum()\n",
    "covid_lo_nans.isna().sum()\n",
    "for i in covid_lo_nans.drop(columns=['iso_code','continent','location','tests_units','date','numeric_date']):\n",
    "#     print(covid_lo_nans[i].max())\n",
    "#     print(covid_lo_nans[i].min())\n",
    "#     print(np.isinf(covid_lo_nans[i]).sum())"
   ]
  },
  {
   "cell_type": "code",
   "execution_count": 21,
   "id": "808ba399-5097-4e8c-b889-25d35e6a4e89",
   "metadata": {},
   "outputs": [],
   "source": [
    "# Impute the missing values using KNN imputation\n",
    "from sklearn.impute import KNNImputer\n",
    "num_neighbors = [2,5,10,15,20]        # Array of number of nearest neighbors to consider when imputing\n",
    "imp_dfs       = []                    # Empty array to store imputed data to be used to determine optimal number of neighbors\n",
    "\n",
    "for i in num_neighbors:\n",
    "    imp = KNNImputer(n_neighbors=i, missing_values=np.nan)  # Needed to specify \"missing_values=np.nan\" - otherwise get a ValueError that was erroring out the process!\n",
    "    imp_dfs.append(imp.fit_transform(to_be_imputed))"
   ]
  },
  {
   "cell_type": "code",
   "execution_count": 35,
   "id": "39d02595-6ffa-4b74-8aef-4ee2b87c4a7c",
   "metadata": {},
   "outputs": [
    {
     "name": "stdout",
     "output_type": "stream",
     "text": [
      "Index(['total_cases', 'new_cases', 'new_cases_smoothed', 'total_deaths',\n",
      "       'new_deaths', 'new_deaths_smoothed', 'total_cases_per_million',\n",
      "       'new_cases_per_million', 'new_cases_smoothed_per_million',\n",
      "       'total_deaths_per_million', 'new_deaths_per_million',\n",
      "       'new_deaths_smoothed_per_million', 'reproduction_rate',\n",
      "       'new_tests_smoothed', 'new_tests_smoothed_per_thousand',\n",
      "       'stringency_index', 'population', 'population_density', 'median_age',\n",
      "       'aged_65_older', 'aged_70_older', 'gdp_per_capita', 'extreme_poverty',\n",
      "       'cardiovasc_death_rate', 'diabetes_prevalence', 'female_smokers',\n",
      "       'male_smokers', 'hospital_beds_per_thousand', 'life_expectancy',\n",
      "       'human_development_index'],\n",
      "      dtype='object')\n"
     ]
    }
   ],
   "source": [
    "to_be_imputed = covid_lo_nans.drop(columns=['iso_code','continent','location','tests_units','date','numeric_date'])\n",
    "print(to_be_imputed.columns)"
   ]
  },
  {
   "cell_type": "code",
   "execution_count": 44,
   "id": "5b333ce1-76eb-488c-92cb-093aee310219",
   "metadata": {},
   "outputs": [
    {
     "name": "stdout",
     "output_type": "stream",
     "text": [
      "493\n",
      "493\n",
      "493\n",
      "493\n",
      "493\n"
     ]
    }
   ],
   "source": [
    "scores = []  # Initialize the scores array\n",
    "\n",
    "for i in imp_dfs: # for all imputed datasets in the imp_dfs array\n",
    "    from sklearn.preprocessing import MinMaxScaler\n",
    "    scaled                = pd.DataFrame(MinMaxScaler().fit_transform(i)) # Scale the data between 0 and 1\n",
    "    date_scaled           = pd.DataFrame(MinMaxScaler().fit_transform(pd.DataFrame(covid_lo_nans['numeric_date']))) # scale the numeric date (date in total seconds since Jan 1, 1970)\n",
    "    full_scaled           = pd.concat([pd.DataFrame(scaled), covid_lo_nans[['iso_code','continent','location','tests_units']], date_scaled], axis=1)  # put the imputed and non imputed data together\n",
    "    names                 = to_be_imputed.columns.values.tolist()\n",
    "    names.extend(['iso_code','continent','location','tests_units','numeric_date'])  # stores variable names to list\n",
    "    full_scaled.columns   = names  # set the combined data variable names\n",
    "    full_scaled = pd.get_dummies(full_scaled, prefix=['iso_code','continent','location','tests_units'])\n",
    "    print(len(full_scaled.columns.values.tolist()))\n",
    "#     from sklearn.linear_model import LinearRegression\n",
    "#     reg   = LinearRegression(n_jobs=-1) # Initialize a Linear Regressor\n",
    "#     reg.fit(full_scaled.drop(columns=['total_cases']), full_scaled['total_cases']) # Fit the model to the full scaleda and imputed data\n",
    "#     pred  = pd.DataFrame(reg.predict(full_scaled.drop(columns=['total_cases'])))\n",
    "#     err   = pred - full_scaled['total_cases']\n",
    "#     SqErr = err**2\n",
    "#     mse   = SqErr.mean()\n",
    "#     rmse  = np.sqrt(mse)\n",
    "#     scores.append(mse)\n",
    "    #     scores.append(reg.score(full_scaled.drop(columns=['total_cases']), full_scaled['total_cases']))"
   ]
  },
  {
   "cell_type": "code",
   "execution_count": null,
   "id": "5cbbb0d3-29bc-443e-ab99-87a8c60250da",
   "metadata": {},
   "outputs": [],
   "source": [
    "scores"
   ]
  },
  {
   "cell_type": "code",
   "execution_count": null,
   "id": "efce101e-386f-4cc3-9aa6-7d925d41fe49",
   "metadata": {},
   "outputs": [],
   "source": []
  }
 ],
 "metadata": {
  "kernelspec": {
   "display_name": "Python 3",
   "language": "python",
   "name": "python3"
  },
  "language_info": {
   "codemirror_mode": {
    "name": "ipython",
    "version": 3
   },
   "file_extension": ".py",
   "mimetype": "text/x-python",
   "name": "python",
   "nbconvert_exporter": "python",
   "pygments_lexer": "ipython3",
   "version": "3.8.10"
  }
 },
 "nbformat": 4,
 "nbformat_minor": 5
}
